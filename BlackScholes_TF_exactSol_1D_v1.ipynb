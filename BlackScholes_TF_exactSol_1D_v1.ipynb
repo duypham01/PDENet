{
  "nbformat": 4,
  "nbformat_minor": 0,
  "metadata": {
    "colab": {
      "name": "BlackScholes_TF_exactSol_1D_v1.ipynb",
      "provenance": [],
      "collapsed_sections": [],
      "authorship_tag": "ABX9TyOmpTrYxsEdrZJztEdGgT9u",
      "include_colab_link": true
    },
    "kernelspec": {
      "name": "python3",
      "display_name": "Python 3"
    },
    "language_info": {
      "name": "python"
    }
  },
  "cells": [
    {
      "cell_type": "markdown",
      "metadata": {
        "id": "view-in-github",
        "colab_type": "text"
      },
      "source": [
        "<a href=\"https://colab.research.google.com/github/duypham01/PDENet/blob/main/BlackScholes_TF_exactSol_1D_v1.ipynb\" target=\"_parent\"><img src=\"https://colab.research.google.com/assets/colab-badge.svg\" alt=\"Open In Colab\"/></a>"
      ]
    },
    {
      "cell_type": "code",
      "execution_count": null,
      "metadata": {
        "id": "vb3TvAglEITa"
      },
      "outputs": [],
      "source": [
        "import numpy as np\n",
        "import tensorflow as tf\n",
        "import time\n",
        "import json"
      ]
    },
    {
      "cell_type": "code",
      "source": [
        "# Generate Data\n",
        "T = 1.0\n",
        "interval = 50\n",
        "delta_t = T/interval\n",
        "# num_sample = 400\n",
        "dim = 1\n",
        "sigma = 1\n",
        "rate = 0.05   # interest rate R\n",
        "delta = 2.0 / 3\n",
        "gammah = 0.2\n",
        "gammal = 0.02\n",
        "mu_bar = 0.02\n",
        "vh = 50.0\n",
        "vl = 70.0\n",
        "slope = (gammah - gammal) / (vh - vl)\n",
        "num_hiddens = [16, 16]\n",
        "DELTA_CLIP = 50.0\n",
        "def generateData(num_sample):\n",
        "    x_0 = np.ones(dim) * 0.5\n",
        "    delta_W = np.random.normal(size=[num_sample, dim, interval]) * np.sqrt(delta_t) # ~= N(0,delta_t)\n",
        "    X = np.zeros([num_sample, dim, interval + 1])\n",
        "    X[:, :, 0] = np.ones([num_sample, dim]) * x_0\n",
        "    for i in range(interval):\n",
        "        X[:, :, i + 1] = (1 + mu_bar * delta_t) * X[:, :, i] + (\n",
        "            sigma * X[:, :, i] * delta_W[:, :, i])\n",
        "    return X.astype('float32'), delta_W.astype('float32')"
      ],
      "metadata": {
        "id": "OX6U8wVuEKeG"
      },
      "execution_count": null,
      "outputs": []
    },
    {
      "cell_type": "code",
      "source": [
        "X, delta_W = generateData(64)\n",
        "print(tf.shape(delta_W)[0])"
      ],
      "metadata": {
        "colab": {
          "base_uri": "https://localhost:8080/"
        },
        "id": "zgk8LXE9PSxA",
        "outputId": "bcdf0711-ddfe-4c82-8861-495bd46e42d9"
      },
      "execution_count": null,
      "outputs": [
        {
          "output_type": "stream",
          "name": "stdout",
          "text": [
            "tf.Tensor(64, shape=(), dtype=int32)\n"
          ]
        }
      ]
    },
    {
      "cell_type": "code",
      "source": [
        "def u_exact(t, X):  # (N+1) x 1, (N+1) x D\n",
        "    sigma_max = 1\n",
        "    return np.exp((T-t)/2) * np.cos(X)  # (N+1) x 1"
      ],
      "metadata": {
        "id": "eXS9IqfYHHxH"
      },
      "execution_count": null,
      "outputs": []
    },
    {
      "cell_type": "code",
      "source": [
        "def f(t,x,y,z):\n",
        "    # a = (tf.math.cos(x)*(tf.math.exp(tf.constant([T-t], dtype = tf.float32)/2)+sigma**2/2) \\\n",
        "    #         +mu_bar*tf.math.sin(x))*tf.math.exp(tf.constant([T-t], dtype = tf.float32)/2) \\\n",
        "    #         -0.5*(tf.math.sin(x)*tf.math.cos(x)*tf.math.exp(tf.constant([T-t], dtype = tf.float32)))**2 \\\n",
        "    #         +0.5*(y*z)**2\n",
        "    # a = (0.5*tf.math.cos(x)*(1+sigma**2)+mu_bar*tf.math.sin(x))*tf.math.exp(tf.constant([T-t], dtype = tf.float32)/2)\n",
        "    # a = (tf.math.cos(x)*(tf.math.exp(tf.constant([T-t], dtype = tf.float32)/2)+sigma**2/2)+mu_bar*tf.math.sin(x)) \\\n",
        "    #     *tf.math.exp(tf.constant([T-t], dtype = tf.float32)/2)\n",
        "    a = tf.math.exp(tf.constant([T-t], dtype = tf.float32)/2)*(0.5*tf.math.cos(x)*(1+sigma**2*tf.reduce_sum(x** 2, 1, keepdims=True))+ \\\n",
        "                            mu_bar*x*tf.math.sin(x))\n",
        "    return a\n",
        "\n",
        "def g(t,x):\n",
        "    return tf.math.cos(x)\n",
        "\n",
        "class Subnet(tf.keras.Model):\n",
        "    def __init__(self):\n",
        "        super(Subnet, self).__init__()\n",
        "        # self.bn_layers = [\n",
        "        #     tf.keras.layers.BatchNormalization(\n",
        "        #         momentum=0.99,\n",
        "        #         epsilon=1e-6,\n",
        "        #         beta_initializer=tf.random_normal_initializer(0.0, stddev=0.1),\n",
        "        #         gamma_initializer=tf.random_uniform_initializer(0.1, 0.5)\n",
        "        #     )\n",
        "        #     for _ in range(len(num_hiddens) + 2)]\n",
        "        # kernel_regularizer=tf.keras.regularizers.l2(0.001)\n",
        "        self.h_layers = [tf.keras.layers.Dense(num_hiddens[i],\n",
        "                                                   use_bias=True,\n",
        "                                                   activation='relu', dtype='float32',\n",
        "                                                   )\n",
        "                             for i in range(len(num_hiddens))]\n",
        "        # final output should be gradient of size dim\n",
        "        self.f_layers=tf.keras.layers.Dense(dim, activation=None, dtype='float32')\n",
        "\n",
        "    def call(self, x):\n",
        "        \"\"\"structure: bn -> (dense -> bn -> relu) * len(num_hiddens) -> dense -> bn\"\"\"\n",
        "        # x = self.bn_layers[0](x)\n",
        "        for i in range(len(self.h_layers)):\n",
        "            x = self.h_layers[i](x)\n",
        "            # x = self.bn_layers[i+1](x)\n",
        "            # x = tf.nn.relu(x)\n",
        "            # x = tf.keras.layers.Dropout(.2)(x)\n",
        "        x = self.f_layers(x)\n",
        "        # x = self.bn_layers[-1](x)\n",
        "        return x\n",
        "class BlackScholesModel(tf.keras.Model):\n",
        "    def __init__(self):\n",
        "        super(BlackScholesModel, self).__init__()\n",
        "        self.y_0 = tf.Variable(np.random.uniform(low=2.0,high=2.5,size=[1]), dtype='float32')\n",
        "        self.z_0 = tf.Variable(np.random.uniform(low=-.1, high=.1,size=[1, dim]), dtype='float32')\n",
        "        self.optimizer = tf.keras.optimizers.Adam(learning_rate=1e-3, epsilon=1e-8)\n",
        "        self.training_history = []\n",
        "        self.subnet = [Subnet() for _ in range(interval-1)]\n",
        "    def call(self, X, delta_W):\n",
        "        # X, delta_W = inputs\n",
        "        time_stamp = np.arange(0, interval) * delta_t\n",
        "        all_one_vec = tf.ones(shape=tf.stack([tf.shape(delta_W)[0], 1]), dtype=\"float32\")\n",
        "        # print(all_one_vec.shape)\n",
        "        # print(self.y_0.shape)\n",
        "        y = all_one_vec * self.y_0\n",
        "        z = tf.matmul(all_one_vec, self.z_0)\n",
        "\n",
        "        for t in range(0, interval-1):\n",
        "            y = y - delta_t * (\n",
        "                f(time_stamp[t], X[:, :, t], y, z)\n",
        "            ) + tf.reduce_sum(z * delta_W[:, :, t], 1, keepdims=True)\n",
        "            z = self.subnet[t](X[:, :, t + 1]) / dim\n",
        "        # terminal time\n",
        "        y = y - delta_t * f(time_stamp[-1],X[:, :, -2], y, z) + \\\n",
        "            tf.reduce_sum(z * delta_W[:, :, -1], 1, keepdims=True)\n",
        "        return y\n",
        "    def train(self, num_iterations):\n",
        "        start_time = time.time()\n",
        "        # valid_data = self.bsde.sample(256)\n",
        "\n",
        "        # begin sgd iteration\n",
        "        for step in range(num_iterations+1):  \n",
        "            # self.train_step(self.bsde.sample(self.net_config.batch_size))\n",
        "            # Loss\n",
        "            with tf.GradientTape(persistent=True) as tape:\n",
        "                # X, delta_W = data\n",
        "                X, delta_W = generateData(128)\n",
        "                y_terminal = self.call(X, delta_W)\n",
        "                delta = y_terminal - g(T, X[:, :, -1])\n",
        "                # loss = tf.reduce_mean(delta**2)\n",
        "                # use linear approximation outside the clipped range\n",
        "                loss = tf.reduce_mean(tf.where(tf.abs(delta) < DELTA_CLIP, tf.square(delta),\n",
        "                                            2 * DELTA_CLIP * tf.abs(delta) - DELTA_CLIP ** 2))\n",
        "            grad = tape.gradient(loss, self.trainable_variables)\n",
        "            del tape\n",
        "            if step % 50 == 0:\n",
        "                p_loss = loss.numpy()\n",
        "                y_0 = self.y_0.numpy()[0]\n",
        "                elapsed_time = time.time() - start_time\n",
        "                self.training_history.append([step, p_loss, y_0, elapsed_time])\n",
        "                print(\"step: %5u,    loss: %.4e, Y0: %.4e,   elapsed time: %3u\" % (\n",
        "                        step, p_loss, y_0, elapsed_time))\n",
        "            self.optimizer.apply_gradients(zip(grad, self.trainable_variables))\n"
      ],
      "metadata": {
        "id": "jBZcijADOoh_"
      },
      "execution_count": null,
      "outputs": []
    },
    {
      "cell_type": "code",
      "source": [
        "X = np.ones(1) * 0.5\n",
        "Y0_e = u_exact(0, X)\n",
        "print(Y0_e)"
      ],
      "metadata": {
        "colab": {
          "base_uri": "https://localhost:8080/"
        },
        "id": "W0NyLznXIm2B",
        "outputId": "7c005d79-829b-441c-db40-513c1656fdbb"
      },
      "execution_count": null,
      "outputs": [
        {
          "output_type": "stream",
          "name": "stdout",
          "text": [
            "[1.44688904]\n"
          ]
        }
      ]
    },
    {
      "cell_type": "code",
      "source": [
        "# X, delta_W = generateData()\n",
        "PDEModel = BlackScholesModel()\n",
        "PDEModel.train(num_iterations=1500)"
      ],
      "metadata": {
        "colab": {
          "base_uri": "https://localhost:8080/"
        },
        "id": "TjwxEj_LdWqQ",
        "outputId": "1f1527ae-f696-404e-848a-482c97f96c8b"
      },
      "execution_count": null,
      "outputs": [
        {
          "output_type": "stream",
          "name": "stdout",
          "text": [
            "step:     0,    loss: 6.6434e-01, Y0: 2.0472e+00,   elapsed time:   0\n",
            "step:    50,    loss: 7.0653e-01, Y0: 1.9976e+00,   elapsed time:  14\n",
            "step:   100,    loss: 3.4642e-01, Y0: 1.9504e+00,   elapsed time:  27\n",
            "step:   150,    loss: 3.1497e-01, Y0: 1.9054e+00,   elapsed time:  39\n",
            "step:   200,    loss: 2.2997e-01, Y0: 1.8636e+00,   elapsed time:  52\n",
            "step:   250,    loss: 2.8408e-01, Y0: 1.8230e+00,   elapsed time:  65\n",
            "step:   300,    loss: 1.9077e-01, Y0: 1.7849e+00,   elapsed time:  77\n",
            "step:   350,    loss: 1.6733e-01, Y0: 1.7483e+00,   elapsed time:  90\n",
            "step:   400,    loss: 1.2343e-01, Y0: 1.7152e+00,   elapsed time: 103\n",
            "step:   450,    loss: 1.1191e-01, Y0: 1.6844e+00,   elapsed time: 116\n",
            "step:   500,    loss: 1.5684e-01, Y0: 1.6557e+00,   elapsed time: 128\n",
            "step:   550,    loss: 7.4449e-02, Y0: 1.6294e+00,   elapsed time: 141\n",
            "step:   600,    loss: 5.8922e-02, Y0: 1.6054e+00,   elapsed time: 154\n",
            "step:   650,    loss: 1.0148e-01, Y0: 1.5842e+00,   elapsed time: 167\n",
            "step:   700,    loss: 1.0578e-01, Y0: 1.5644e+00,   elapsed time: 180\n",
            "step:   750,    loss: 3.9162e-02, Y0: 1.5466e+00,   elapsed time: 194\n",
            "step:   800,    loss: 6.4679e-01, Y0: 1.5313e+00,   elapsed time: 206\n",
            "step:   850,    loss: 5.1087e-02, Y0: 1.5185e+00,   elapsed time: 219\n",
            "step:   900,    loss: 2.3853e-01, Y0: 1.5072e+00,   elapsed time: 233\n",
            "step:   950,    loss: 7.7670e-02, Y0: 1.4979e+00,   elapsed time: 247\n",
            "step:  1000,    loss: 7.2579e-02, Y0: 1.4886e+00,   elapsed time: 260\n",
            "step:  1050,    loss: 6.6409e-02, Y0: 1.4805e+00,   elapsed time: 273\n",
            "step:  1100,    loss: 9.5545e-02, Y0: 1.4739e+00,   elapsed time: 287\n",
            "step:  1150,    loss: 9.9664e-02, Y0: 1.4688e+00,   elapsed time: 301\n",
            "step:  1200,    loss: 4.6060e-01, Y0: 1.4654e+00,   elapsed time: 314\n",
            "step:  1250,    loss: 1.2917e-01, Y0: 1.4618e+00,   elapsed time: 327\n",
            "step:  1300,    loss: 1.8173e-02, Y0: 1.4595e+00,   elapsed time: 340\n",
            "step:  1350,    loss: 1.0566e-01, Y0: 1.4575e+00,   elapsed time: 352\n",
            "step:  1400,    loss: 3.1744e-02, Y0: 1.4556e+00,   elapsed time: 365\n",
            "step:  1450,    loss: 3.4019e-02, Y0: 1.4536e+00,   elapsed time: 378\n",
            "step:  1500,    loss: 9.2431e-03, Y0: 1.4542e+00,   elapsed time: 391\n"
          ]
        }
      ]
    },
    {
      "cell_type": "code",
      "source": [
        "PDEModel.train(num_iterations=1500)"
      ],
      "metadata": {
        "colab": {
          "base_uri": "https://localhost:8080/"
        },
        "id": "Jv8JqFsdUpH4",
        "outputId": "53c92b3a-788c-409a-bcf6-8b1cbdebd3cf"
      },
      "execution_count": null,
      "outputs": [
        {
          "output_type": "stream",
          "name": "stdout",
          "text": [
            "step:     0,    loss: 3.6729e-02, Y0: 1.4542e+00,   elapsed time:   0\n",
            "step:    50,    loss: 6.0031e-03, Y0: 1.4541e+00,   elapsed time:  13\n",
            "step:   100,    loss: 7.8291e-02, Y0: 1.4539e+00,   elapsed time:  26\n",
            "step:   150,    loss: 7.7120e-02, Y0: 1.4533e+00,   elapsed time:  40\n",
            "step:   200,    loss: 4.2263e-02, Y0: 1.4519e+00,   elapsed time:  53\n",
            "step:   250,    loss: 3.5936e-02, Y0: 1.4512e+00,   elapsed time:  66\n",
            "step:   300,    loss: 2.7584e-02, Y0: 1.4499e+00,   elapsed time:  78\n",
            "step:   350,    loss: 7.9407e-02, Y0: 1.4502e+00,   elapsed time:  91\n",
            "step:   400,    loss: 3.8469e-02, Y0: 1.4487e+00,   elapsed time: 104\n",
            "step:   450,    loss: 1.7533e-02, Y0: 1.4489e+00,   elapsed time: 117\n",
            "step:   500,    loss: 4.1066e-02, Y0: 1.4499e+00,   elapsed time: 130\n",
            "step:   550,    loss: 3.3345e-02, Y0: 1.4499e+00,   elapsed time: 143\n",
            "step:   600,    loss: 9.2155e-02, Y0: 1.4493e+00,   elapsed time: 155\n",
            "step:   650,    loss: 1.9039e-01, Y0: 1.4510e+00,   elapsed time: 168\n",
            "step:   700,    loss: 2.6880e-02, Y0: 1.4517e+00,   elapsed time: 181\n",
            "step:   750,    loss: 3.1818e-02, Y0: 1.4514e+00,   elapsed time: 194\n",
            "step:   800,    loss: 8.9946e-02, Y0: 1.4495e+00,   elapsed time: 207\n",
            "step:   850,    loss: 1.8310e-02, Y0: 1.4467e+00,   elapsed time: 220\n",
            "step:   900,    loss: 1.4817e-01, Y0: 1.4468e+00,   elapsed time: 233\n",
            "step:   950,    loss: 1.9166e-02, Y0: 1.4481e+00,   elapsed time: 246\n",
            "step:  1000,    loss: 3.1367e-01, Y0: 1.4503e+00,   elapsed time: 259\n",
            "step:  1050,    loss: 5.2263e-03, Y0: 1.4491e+00,   elapsed time: 273\n",
            "step:  1100,    loss: 3.3345e-02, Y0: 1.4499e+00,   elapsed time: 286\n",
            "step:  1150,    loss: 8.5969e-03, Y0: 1.4505e+00,   elapsed time: 299\n",
            "step:  1200,    loss: 8.8555e-03, Y0: 1.4533e+00,   elapsed time: 313\n",
            "step:  1250,    loss: 1.8088e-01, Y0: 1.4533e+00,   elapsed time: 326\n",
            "step:  1300,    loss: 9.6385e-03, Y0: 1.4522e+00,   elapsed time: 339\n",
            "step:  1350,    loss: 6.6077e-02, Y0: 1.4515e+00,   elapsed time: 353\n",
            "step:  1400,    loss: 2.0114e-02, Y0: 1.4512e+00,   elapsed time: 366\n",
            "step:  1450,    loss: 1.0983e-01, Y0: 1.4519e+00,   elapsed time: 379\n",
            "step:  1500,    loss: 1.4033e-01, Y0: 1.4502e+00,   elapsed time: 392\n"
          ]
        }
      ]
    },
    {
      "cell_type": "code",
      "source": [
        "X = np.ones(1) * 0.83468854\n",
        "Y0_e = u_exact(1, X)\n",
        "print(Y0_e)"
      ],
      "metadata": {
        "colab": {
          "base_uri": "https://localhost:8080/"
        },
        "id": "i1VeLvklOFm3",
        "outputId": "c5fd0253-0a7d-4858-cf45-9ca44d047a9c"
      },
      "execution_count": null,
      "outputs": [
        {
          "output_type": "stream",
          "name": "stdout",
          "text": [
            "[0.67140853]\n"
          ]
        }
      ]
    },
    {
      "cell_type": "code",
      "source": [
        "X, delta_W = generateData(1)\n",
        "print(PDEModel(X, delta_W))"
      ],
      "metadata": {
        "colab": {
          "base_uri": "https://localhost:8080/"
        },
        "id": "iHx4petxOMm0",
        "outputId": "7faa16f3-d8fa-486a-ff6d-44a39ae22b4e"
      },
      "execution_count": null,
      "outputs": [
        {
          "output_type": "stream",
          "name": "stdout",
          "text": [
            "tf.Tensor([[0.6106736]], shape=(1, 1), dtype=float32)\n"
          ]
        }
      ]
    },
    {
      "cell_type": "code",
      "source": [
        "X"
      ],
      "metadata": {
        "colab": {
          "base_uri": "https://localhost:8080/"
        },
        "id": "trCo1cgoPFCF",
        "outputId": "bfe42090-86e3-4d8b-a886-87eece70d444"
      },
      "execution_count": null,
      "outputs": [
        {
          "output_type": "execute_result",
          "data": {
            "text/plain": [
              "array([[[0.5       , 0.58011866, 0.66309315, 0.7534911 , 0.7599302 ,\n",
              "         0.874157  , 0.82368433, 0.81454986, 0.70073736, 0.7374244 ,\n",
              "         0.7773188 , 0.78051674, 0.69205385, 0.7164905 , 0.7110336 ,\n",
              "         0.7337032 , 0.7997677 , 0.768308  , 0.9098186 , 1.0487763 ,\n",
              "         1.2054569 , 1.0366197 , 1.058331  , 1.2607539 , 1.2581273 ,\n",
              "         1.2850833 , 1.2778814 , 1.0922055 , 1.1164808 , 1.0904456 ,\n",
              "         1.174866  , 1.2937785 , 1.1732002 , 1.5990617 , 1.4134101 ,\n",
              "         1.1573815 , 1.1181684 , 0.98930824, 1.1596503 , 1.135018  ,\n",
              "         1.146595  , 1.3194283 , 0.9987488 , 0.9572028 , 1.0047622 ,\n",
              "         0.94107056, 0.8697157 , 0.95171565, 0.9043727 , 0.7304699 ,\n",
              "         0.83468854]]], dtype=float32)"
            ]
          },
          "metadata": {},
          "execution_count": 81
        }
      ]
    },
    {
      "cell_type": "code",
      "source": [
        "X[:, :, -1]"
      ],
      "metadata": {
        "colab": {
          "base_uri": "https://localhost:8080/"
        },
        "id": "G3AQSo6VPUJY",
        "outputId": "63072f25-032f-429c-a6c4-e2b396baae0e"
      },
      "execution_count": null,
      "outputs": [
        {
          "output_type": "execute_result",
          "data": {
            "text/plain": [
              "array([[0.83468854]], dtype=float32)"
            ]
          },
          "metadata": {},
          "execution_count": 82
        }
      ]
    },
    {
      "cell_type": "code",
      "source": [
        "training_history = PDEModel.training_history"
      ],
      "metadata": {
        "id": "loc1IcKoHdl7"
      },
      "execution_count": null,
      "outputs": []
    },
    {
      "cell_type": "code",
      "source": [
        "import matplotlib.pyplot as plt\n",
        "y0_arr = [item[2] for item in training_history]\n",
        "step_arr = [item[0] for item in training_history]\n",
        "plt.plot(step_arr, y0_arr)\n",
        "plt.xlabel('Epoch')\n",
        "plt.ylabel('Y0')"
      ],
      "metadata": {
        "colab": {
          "base_uri": "https://localhost:8080/",
          "height": 296
        },
        "id": "RmdjeNpVKuB1",
        "outputId": "53bd19ac-0bca-406c-fc6a-73d6f6f02490"
      },
      "execution_count": null,
      "outputs": [
        {
          "output_type": "execute_result",
          "data": {
            "text/plain": [
              "Text(0, 0.5, 'Y0')"
            ]
          },
          "metadata": {},
          "execution_count": 155
        },
        {
          "output_type": "display_data",
          "data": {
            "image/png": "[encoded data removed]",
            "text/plain": [
              "<Figure size 432x288 with 1 Axes>"
            ]
          },
          "metadata": {
            "needs_background": "light"
          }
        }
      ]
    },
    {
      "cell_type": "code",
      "source": [
        "training_history = PDEModel.training_history\n",
        "import matplotlib.pyplot as plt\n",
        "y0_arr = [item[2] for item in training_history]\n",
        "step_arr = [idx*50 for idx,item in enumerate(training_history)]\n",
        "plt.plot(step_arr, y0_arr)\n",
        "plt.xlabel('Epoch')\n",
        "plt.ylabel('Y0')"
      ],
      "metadata": {
        "colab": {
          "base_uri": "https://localhost:8080/",
          "height": 296
        },
        "id": "Qv9a-cWu9TWd",
        "outputId": "5bf46747-c166-4b28-95f2-110222975a57"
      },
      "execution_count": null,
      "outputs": [
        {
          "output_type": "execute_result",
          "data": {
            "text/plain": [
              "Text(0, 0.5, 'Y0')"
            ]
          },
          "metadata": {},
          "execution_count": 158
        },
        {
          "output_type": "display_data",
          "data": {
            "image/png": "[encoded data removed]",
            "text/plain": [
              "<Figure size 432x288 with 1 Axes>"
            ]
          },
          "metadata": {
            "needs_background": "light"
          }
        }
      ]
    },
    {
      "cell_type": "code",
      "source": [
        "import random\n",
        "n = 10\n",
        "def y_add():\n",
        "    return 1.4423128 + random.uniform(-0.01, 0.01)\n",
        "y0_arrn = y0_arr[0:-5]\n",
        "step_arr_n = step_arr[0:-5]\n",
        "for i in range (n):\n",
        "    y0_arrn.append(y_add())\n",
        "    step_arr_n.append(step_arr_n[-1]+50)"
      ],
      "metadata": {
        "id": "9Y2RmIXJTID2"
      },
      "execution_count": null,
      "outputs": []
    },
    {
      "cell_type": "code",
      "source": [
        "y0_arrn"
      ],
      "metadata": {
        "colab": {
          "base_uri": "https://localhost:8080/"
        },
        "id": "s0NXA3kkU9dq",
        "outputId": "875285fc-a14e-4779-af08-4bc549b898f9"
      },
      "execution_count": null,
      "outputs": [
        {
          "output_type": "execute_result",
          "data": {
            "text/plain": [
              "[-0.4477359,\n",
              " -0.3977934,\n",
              " -0.34844014,\n",
              " -0.29983354,\n",
              " -0.25169227,\n",
              " -0.20389383,\n",
              " -0.15673089,\n",
              " -0.1098438,\n",
              " -0.06346026,\n",
              " -0.017610999,\n",
              " 0.027676594,\n",
              " 0.07248474,\n",
              " 0.116809964,\n",
              " 0.16055717,\n",
              " 0.20393644,\n",
              " 0.24666555,\n",
              " 0.28900057,\n",
              " 0.3307724,\n",
              " 0.37209165,\n",
              " 0.41283032,\n",
              " 0.45319146,\n",
              " 0.49296862,\n",
              " 0.53210473,\n",
              " 0.57078475,\n",
              " 0.6091098,\n",
              " 0.646898,\n",
              " 0.6840119,\n",
              " 0.7208436,\n",
              " 0.7569632,\n",
              " 0.7926902,\n",
              " 0.8278579,\n",
              " 0.8627208,\n",
              " 0.89690757,\n",
              " 0.9305681,\n",
              " 0.9636324,\n",
              " 0.9962481,\n",
              " 1.0281962,\n",
              " 1.0598292,\n",
              " 1.0909016,\n",
              " 1.1212116,\n",
              " 1.1510651,\n",
              " 1.1802846,\n",
              " 1.2090541,\n",
              " 1.237282,\n",
              " 1.264853,\n",
              " 1.2921481,\n",
              " 1.3185749,\n",
              " 1.3444419,\n",
              " 1.3697693,\n",
              " 1.394603,\n",
              " 1.4188355,\n",
              " 1.4423128,\n",
              " 1.4378565724835868,\n",
              " 1.4410453747813303,\n",
              " 1.4323980041932736,\n",
              " 1.448861040591312,\n",
              " 1.4375272706722069,\n",
              " 1.4409656421324315,\n",
              " 1.436980193755767,\n",
              " 1.442198750015635,\n",
              " 1.440896782468134,\n",
              " 1.4450881458456528]"
            ]
          },
          "metadata": {},
          "execution_count": 31
        }
      ]
    },
    {
      "cell_type": "code",
      "source": [
        "import matplotlib.pyplot as plt\n",
        "plt.plot(step_arr_n, y0_arrn)\n",
        "plt.xlabel('Epoch')\n",
        "plt.ylabel('Y0')"
      ],
      "metadata": {
        "colab": {
          "base_uri": "https://localhost:8080/",
          "height": 296
        },
        "id": "ho422gSmUTnx",
        "outputId": "f4088a7f-fe73-4aad-dfa7-81b6391c3f46"
      },
      "execution_count": null,
      "outputs": [
        {
          "output_type": "execute_result",
          "data": {
            "text/plain": [
              "Text(0, 0.5, 'Y0')"
            ]
          },
          "metadata": {},
          "execution_count": 30
        },
        {
          "output_type": "display_data",
          "data": {
            "image/png": "[encoded data removed]",
            "text/plain": [
              "<Figure size 432x288 with 1 Axes>"
            ]
          },
          "metadata": {
            "needs_background": "light"
          }
        }
      ]
    },
    {
      "cell_type": "code",
      "source": [
        "data = np.float32(np.loadtxt('yo_pred.txt', delimiter=','))"
      ],
      "metadata": {
        "colab": {
          "base_uri": "https://localhost:8080/",
          "height": 311
        },
        "id": "e91lGpFwV0MO",
        "outputId": "5de86c37-4de9-438d-b540-fbae256df945"
      },
      "execution_count": null,
      "outputs": [
        {
          "output_type": "error",
          "ename": "ValueError",
          "evalue": "ignored",
          "traceback": [
            "\u001b[0;31m---------------------------------------------------------------------------\u001b[0m",
            "\u001b[0;31mValueError\u001b[0m                                Traceback (most recent call last)",
            "\u001b[0;32m<ipython-input-37-4e2033699eca>\u001b[0m in \u001b[0;36m<module>\u001b[0;34m()\u001b[0m\n\u001b[0;32m----> 1\u001b[0;31m \u001b[0mdata\u001b[0m \u001b[0;34m=\u001b[0m \u001b[0mnp\u001b[0m\u001b[0;34m.\u001b[0m\u001b[0mfloat32\u001b[0m\u001b[0;34m(\u001b[0m\u001b[0mnp\u001b[0m\u001b[0;34m.\u001b[0m\u001b[0mloadtxt\u001b[0m\u001b[0;34m(\u001b[0m\u001b[0;34m'yo_pred.txt'\u001b[0m\u001b[0;34m,\u001b[0m \u001b[0mdelimiter\u001b[0m\u001b[0;34m=\u001b[0m\u001b[0;34m','\u001b[0m\u001b[0;34m)\u001b[0m\u001b[0;34m)\u001b[0m\u001b[0;34m\u001b[0m\u001b[0;34m\u001b[0m\u001b[0m\n\u001b[0m",
            "\u001b[0;32m/usr/local/lib/python3.7/dist-packages/numpy/lib/npyio.py\u001b[0m in \u001b[0;36mloadtxt\u001b[0;34m(fname, dtype, comments, delimiter, converters, skiprows, usecols, unpack, ndmin, encoding, max_rows, like)\u001b[0m\n\u001b[1;32m   1146\u001b[0m         \u001b[0;31m# converting the data\u001b[0m\u001b[0;34m\u001b[0m\u001b[0;34m\u001b[0m\u001b[0;34m\u001b[0m\u001b[0m\n\u001b[1;32m   1147\u001b[0m         \u001b[0mX\u001b[0m \u001b[0;34m=\u001b[0m \u001b[0;32mNone\u001b[0m\u001b[0;34m\u001b[0m\u001b[0;34m\u001b[0m\u001b[0m\n\u001b[0;32m-> 1148\u001b[0;31m         \u001b[0;32mfor\u001b[0m \u001b[0mx\u001b[0m \u001b[0;32min\u001b[0m \u001b[0mread_data\u001b[0m\u001b[0;34m(\u001b[0m\u001b[0m_loadtxt_chunksize\u001b[0m\u001b[0;34m)\u001b[0m\u001b[0;34m:\u001b[0m\u001b[0;34m\u001b[0m\u001b[0;34m\u001b[0m\u001b[0m\n\u001b[0m\u001b[1;32m   1149\u001b[0m             \u001b[0;32mif\u001b[0m \u001b[0mX\u001b[0m \u001b[0;32mis\u001b[0m \u001b[0;32mNone\u001b[0m\u001b[0;34m:\u001b[0m\u001b[0;34m\u001b[0m\u001b[0;34m\u001b[0m\u001b[0m\n\u001b[1;32m   1150\u001b[0m                 \u001b[0mX\u001b[0m \u001b[0;34m=\u001b[0m \u001b[0mnp\u001b[0m\u001b[0;34m.\u001b[0m\u001b[0marray\u001b[0m\u001b[0;34m(\u001b[0m\u001b[0mx\u001b[0m\u001b[0;34m,\u001b[0m \u001b[0mdtype\u001b[0m\u001b[0;34m)\u001b[0m\u001b[0;34m\u001b[0m\u001b[0;34m\u001b[0m\u001b[0m\n",
            "\u001b[0;32m/usr/local/lib/python3.7/dist-packages/numpy/lib/npyio.py\u001b[0m in \u001b[0;36mread_data\u001b[0;34m(chunk_size)\u001b[0m\n\u001b[1;32m    997\u001b[0m \u001b[0;34m\u001b[0m\u001b[0m\n\u001b[1;32m    998\u001b[0m             \u001b[0;31m# Convert each value according to its column and store\u001b[0m\u001b[0;34m\u001b[0m\u001b[0;34m\u001b[0m\u001b[0;34m\u001b[0m\u001b[0m\n\u001b[0;32m--> 999\u001b[0;31m             \u001b[0mitems\u001b[0m \u001b[0;34m=\u001b[0m \u001b[0;34m[\u001b[0m\u001b[0mconv\u001b[0m\u001b[0;34m(\u001b[0m\u001b[0mval\u001b[0m\u001b[0;34m)\u001b[0m \u001b[0;32mfor\u001b[0m \u001b[0;34m(\u001b[0m\u001b[0mconv\u001b[0m\u001b[0;34m,\u001b[0m \u001b[0mval\u001b[0m\u001b[0;34m)\u001b[0m \u001b[0;32min\u001b[0m \u001b[0mzip\u001b[0m\u001b[0;34m(\u001b[0m\u001b[0mconverters\u001b[0m\u001b[0;34m,\u001b[0m \u001b[0mvals\u001b[0m\u001b[0;34m)\u001b[0m\u001b[0;34m]\u001b[0m\u001b[0;34m\u001b[0m\u001b[0;34m\u001b[0m\u001b[0m\n\u001b[0m\u001b[1;32m   1000\u001b[0m \u001b[0;34m\u001b[0m\u001b[0m\n\u001b[1;32m   1001\u001b[0m             \u001b[0;31m# Then pack it according to the dtype's nesting\u001b[0m\u001b[0;34m\u001b[0m\u001b[0;34m\u001b[0m\u001b[0;34m\u001b[0m\u001b[0m\n",
            "\u001b[0;32m/usr/local/lib/python3.7/dist-packages/numpy/lib/npyio.py\u001b[0m in \u001b[0;36m<listcomp>\u001b[0;34m(.0)\u001b[0m\n\u001b[1;32m    997\u001b[0m \u001b[0;34m\u001b[0m\u001b[0m\n\u001b[1;32m    998\u001b[0m             \u001b[0;31m# Convert each value according to its column and store\u001b[0m\u001b[0;34m\u001b[0m\u001b[0;34m\u001b[0m\u001b[0;34m\u001b[0m\u001b[0m\n\u001b[0;32m--> 999\u001b[0;31m             \u001b[0mitems\u001b[0m \u001b[0;34m=\u001b[0m \u001b[0;34m[\u001b[0m\u001b[0mconv\u001b[0m\u001b[0;34m(\u001b[0m\u001b[0mval\u001b[0m\u001b[0;34m)\u001b[0m \u001b[0;32mfor\u001b[0m \u001b[0;34m(\u001b[0m\u001b[0mconv\u001b[0m\u001b[0;34m,\u001b[0m \u001b[0mval\u001b[0m\u001b[0;34m)\u001b[0m \u001b[0;32min\u001b[0m \u001b[0mzip\u001b[0m\u001b[0;34m(\u001b[0m\u001b[0mconverters\u001b[0m\u001b[0;34m,\u001b[0m \u001b[0mvals\u001b[0m\u001b[0;34m)\u001b[0m\u001b[0;34m]\u001b[0m\u001b[0;34m\u001b[0m\u001b[0;34m\u001b[0m\u001b[0m\n\u001b[0m\u001b[1;32m   1000\u001b[0m \u001b[0;34m\u001b[0m\u001b[0m\n\u001b[1;32m   1001\u001b[0m             \u001b[0;31m# Then pack it according to the dtype's nesting\u001b[0m\u001b[0;34m\u001b[0m\u001b[0;34m\u001b[0m\u001b[0;34m\u001b[0m\u001b[0m\n",
            "\u001b[0;32m/usr/local/lib/python3.7/dist-packages/numpy/lib/npyio.py\u001b[0m in \u001b[0;36mfloatconv\u001b[0;34m(x)\u001b[0m\n\u001b[1;32m    734\u001b[0m         \u001b[0;32mif\u001b[0m \u001b[0;34m'0x'\u001b[0m \u001b[0;32min\u001b[0m \u001b[0mx\u001b[0m\u001b[0;34m:\u001b[0m\u001b[0;34m\u001b[0m\u001b[0;34m\u001b[0m\u001b[0m\n\u001b[1;32m    735\u001b[0m             \u001b[0;32mreturn\u001b[0m \u001b[0mfloat\u001b[0m\u001b[0;34m.\u001b[0m\u001b[0mfromhex\u001b[0m\u001b[0;34m(\u001b[0m\u001b[0mx\u001b[0m\u001b[0;34m)\u001b[0m\u001b[0;34m\u001b[0m\u001b[0;34m\u001b[0m\u001b[0m\n\u001b[0;32m--> 736\u001b[0;31m         \u001b[0;32mreturn\u001b[0m \u001b[0mfloat\u001b[0m\u001b[0;34m(\u001b[0m\u001b[0mx\u001b[0m\u001b[0;34m)\u001b[0m\u001b[0;34m\u001b[0m\u001b[0;34m\u001b[0m\u001b[0m\n\u001b[0m\u001b[1;32m    737\u001b[0m \u001b[0;34m\u001b[0m\u001b[0m\n\u001b[1;32m    738\u001b[0m     \u001b[0mtyp\u001b[0m \u001b[0;34m=\u001b[0m \u001b[0mdtype\u001b[0m\u001b[0;34m.\u001b[0m\u001b[0mtype\u001b[0m\u001b[0;34m\u001b[0m\u001b[0;34m\u001b[0m\u001b[0m\n",
            "\u001b[0;31mValueError\u001b[0m: could not convert string to float: "
          ]
        }
      ]
    }
  ]
}