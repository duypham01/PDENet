{
  "nbformat": 4,
  "nbformat_minor": 0,
  "metadata": {
    "colab": {
      "name": "BlackScholes_TF.ipynb",
      "provenance": [],
      "collapsed_sections": [],
      "authorship_tag": "ABX9TyNyKQR9UdaNdH2yYSNxLEjw",
      "include_colab_link": true
    },
    "kernelspec": {
      "name": "python3",
      "display_name": "Python 3"
    },
    "language_info": {
      "name": "python"
    }
  },
  "cells": [
    {
      "cell_type": "markdown",
      "metadata": {
        "id": "view-in-github",
        "colab_type": "text"
      },
      "source": [
        "<a href=\"https://colab.research.google.com/github/duypham01/PDENet/blob/main/BlackScholes_TF.ipynb\" target=\"_parent\"><img src=\"https://colab.research.google.com/assets/colab-badge.svg\" alt=\"Open In Colab\"/></a>"
      ]
    },
    {
      "cell_type": "code",
      "execution_count": null,
      "metadata": {
        "id": "vb3TvAglEITa"
      },
      "outputs": [],
      "source": [
        "import numpy as np\n",
        "import tensorflow as tf\n",
        "import time\n",
        "import json"
      ]
    },
    {
      "cell_type": "code",
      "source": [
        "# Generate Data\n",
        "T = 1\n",
        "interval = 50\n",
        "delta_t = T/interval\n",
        "# num_sample = 400\n",
        "dim = 100\n",
        "sigma = 0.2\n",
        "rate = 0.02   # interest rate R\n",
        "delta = 2.0 / 3\n",
        "gammah = 0.2\n",
        "gammal = 0.02\n",
        "mu_bar = 0.02\n",
        "vh = 50.0\n",
        "vl = 70.0\n",
        "slope = (gammah - gammal) / (vh - vl)\n",
        "num_hiddens = [110, 110]\n",
        "DELTA_CLIP = 50.0\n",
        "def generateData(num_sample):\n",
        "    x_0 = np.ones(dim) * 100.0\n",
        "    delta_W = np.random.normal(size=[num_sample, dim, interval]) * np.sqrt(delta_t) # ~= N(0,delta_t)\n",
        "    X = np.zeros([num_sample, dim, interval + 1])\n",
        "    X[:, :, 0] = np.ones([num_sample, dim]) * x_0\n",
        "    for i in range(interval):\n",
        "        X[:, :, i + 1] = (1 + mu_bar * delta_t) * X[:, :, i] + (\n",
        "            sigma * X[:, :, i] * delta_W[:, :, i])\n",
        "    return X.astype('float32'), delta_W.astype('float32')"
      ],
      "metadata": {
        "id": "OX6U8wVuEKeG"
      },
      "execution_count": null,
      "outputs": []
    },
    {
      "cell_type": "code",
      "source": [
        "def f(t,y):\n",
        "    piecewise_linear = tf.nn.relu(\n",
        "            tf.nn.relu(y - vh) * slope + gammah - gammal) + gammal\n",
        "    return (-(1 - delta) * piecewise_linear - rate) * y\n",
        "\n",
        "def g(t,x):\n",
        "    return tf.reduce_min(x, 1, keepdims=True)\n",
        "\n",
        "class Subnet(tf.keras.Model):\n",
        "    def __init__(self):\n",
        "        super(Subnet, self).__init__()\n",
        "        # self.layers = [\n",
        "        #     tf.keras.layers.BatchNormalization(\n",
        "        #         momentum=0.99,\n",
        "        #         epsilon=1e-6,\n",
        "        #         beta_initializer=tf.random_normal_initializer(0.0, stddev=0.1),\n",
        "        #         gamma_initializer=tf.random_uniform_initializer(0.1, 0.5)\n",
        "        #     )\n",
        "        #     for _ in range(len(num_hiddens) + 2)]\n",
        "        self.h_layers = [tf.keras.layers.Dense(num_hiddens[i],\n",
        "                                                   use_bias=True,\n",
        "                                                   activation='relu', dtype='float32')\n",
        "                             for i in range(len(num_hiddens))]\n",
        "        # final output should be gradient of size dim\n",
        "        self.f_layers=tf.keras.layers.Dense(dim, activation=None, dtype='float32')\n",
        "\n",
        "    def call(self, x):\n",
        "        \"\"\"structure: bn -> (dense -> bn -> relu) * len(num_hiddens) -> dense -> bn\"\"\"\n",
        "        # x = self.bn_layers[0](x, training)\n",
        "        for i in range(len(self.h_layers)):\n",
        "            x = self.h_layers[i](x)\n",
        "            # x = self.bn_layers[i+1](x, training)\n",
        "            # x = tf.nn.relu(x)\n",
        "        x = self.f_layers(x)\n",
        "        # x = self.bn_layers[-1](x, training)\n",
        "        return x\n",
        "class BlackScholesModel(tf.keras.Model):\n",
        "    def __init__(self):\n",
        "        super(BlackScholesModel, self).__init__()\n",
        "        self.y_0 = tf.Variable(np.random.uniform(low=40,high=50,size=[1]), dtype='float32')\n",
        "        self.z_0 = tf.Variable(np.random.uniform(low=-.1, high=.1,size=[1, dim]), dtype='float32')\n",
        "        self.optimizer = tf.keras.optimizers.Adam(learning_rate=8e-3, epsilon=1e-8)\n",
        "        self.training_history = []\n",
        "        self.subnet = [Subnet() for _ in range(interval-1)]\n",
        "    def call(self, X, delta_W):\n",
        "        # X, delta_W = inputs\n",
        "        time_stamp = np.arange(0, interval) * delta_t\n",
        "        all_one_vec = tf.ones(shape=tf.stack([tf.shape(delta_W)[0], 1]), dtype=\"float32\")\n",
        "        # print(all_one_vec.shape)\n",
        "        # print(self.y_0.shape)\n",
        "        y = all_one_vec * self.y_0\n",
        "        z = tf.matmul(all_one_vec, self.z_0)\n",
        "\n",
        "        for t in range(0, interval-1):\n",
        "            y = y - delta_t * (\n",
        "                f(time_stamp[t], y)\n",
        "            ) + tf.reduce_sum(z * delta_W[:, :, t], 1, keepdims=True)\n",
        "            z = self.subnet[t](X[:, :, t + 1]) / dim\n",
        "        # terminal time\n",
        "        y = y - delta_t * f(time_stamp[-1], y) + \\\n",
        "            tf.reduce_sum(z * delta_W[:, :, -1], 1, keepdims=True)\n",
        "        return y\n",
        "    def train(self, num_iterations):\n",
        "        start_time = time.time()\n",
        "        # valid_data = self.bsde.sample(256)\n",
        "\n",
        "        # begin sgd iteration\n",
        "        for step in range(num_iterations+1):  \n",
        "            # self.train_step(self.bsde.sample(self.net_config.batch_size))\n",
        "            # Loss\n",
        "            with tf.GradientTape(persistent=True) as tape:\n",
        "                # X, delta_W = data\n",
        "                X, delta_W = generateData(64)\n",
        "                y_terminal = self.call(X, delta_W)\n",
        "                delta = y_terminal - g(T, X[:, :, -1])\n",
        "                # use linear approximation outside the clipped range\n",
        "                loss = tf.reduce_mean(tf.where(tf.abs(delta) < DELTA_CLIP, tf.square(delta),\n",
        "                                            2 * DELTA_CLIP * tf.abs(delta) - DELTA_CLIP ** 2))\n",
        "            grad = tape.gradient(loss, self.trainable_variables)\n",
        "            del tape\n",
        "            if step % 100 == 0:\n",
        "                p_loss = loss.numpy()\n",
        "                y_0 = self.y_0.numpy()[0]\n",
        "                elapsed_time = time.time() - start_time\n",
        "                self.training_history.append([step, p_loss, y_0, elapsed_time])\n",
        "                print(\"step: %5u,    loss: %.4e, Y0: %.4e,   elapsed time: %3u\" % (\n",
        "                        step, p_loss, y_0, elapsed_time))\n",
        "            self.optimizer.apply_gradients(zip(grad, self.trainable_variables))\n"
      ],
      "metadata": {
        "id": "jBZcijADOoh_"
      },
      "execution_count": null,
      "outputs": []
    },
    {
      "cell_type": "code",
      "source": [
        "# X, delta_W = generateData()\n",
        "PDEModel = BlackScholesModel()\n",
        "PDEModel.train(num_iterations=6000)"
      ],
      "metadata": {
        "colab": {
          "base_uri": "https://localhost:8080/"
        },
        "id": "TjwxEj_LdWqQ",
        "outputId": "b345fab6-e46f-4178-ce00-aaf28d47aa88"
      },
      "execution_count": null,
      "outputs": [
        {
          "output_type": "stream",
          "name": "stdout",
          "text": [
            "step:     0,    loss: 2.7663e+02, Y0: 4.2737e+01,   elapsed time:   0\n",
            "step:   100,    loss: 1.5919e+02, Y0: 4.3530e+01,   elapsed time:  48\n",
            "step:   200,    loss: 1.9267e+02, Y0: 4.4302e+01,   elapsed time:  85\n",
            "step:   300,    loss: 1.5720e+02, Y0: 4.5044e+01,   elapsed time: 122\n",
            "step:   400,    loss: 1.2954e+02, Y0: 4.5758e+01,   elapsed time: 158\n",
            "step:   500,    loss: 1.2193e+02, Y0: 4.6440e+01,   elapsed time: 194\n",
            "step:   600,    loss: 1.0819e+02, Y0: 4.7090e+01,   elapsed time: 230\n",
            "step:   700,    loss: 9.3346e+01, Y0: 4.7705e+01,   elapsed time: 265\n",
            "step:   800,    loss: 8.5763e+01, Y0: 4.8289e+01,   elapsed time: 307\n",
            "step:   900,    loss: 7.3485e+01, Y0: 4.8849e+01,   elapsed time: 343\n",
            "step:  1000,    loss: 9.0006e+01, Y0: 4.9374e+01,   elapsed time: 378\n",
            "step:  1100,    loss: 5.3673e+01, Y0: 4.9885e+01,   elapsed time: 414\n",
            "step:  1200,    loss: 7.1135e+01, Y0: 5.0371e+01,   elapsed time: 449\n",
            "step:  1300,    loss: 5.9252e+01, Y0: 5.0849e+01,   elapsed time: 486\n",
            "step:  1400,    loss: 5.8659e+01, Y0: 5.1306e+01,   elapsed time: 521\n",
            "step:  1500,    loss: 4.9397e+01, Y0: 5.1751e+01,   elapsed time: 557\n",
            "step:  1600,    loss: 5.3573e+01, Y0: 5.2173e+01,   elapsed time: 592\n",
            "step:  1700,    loss: 4.1258e+01, Y0: 5.2583e+01,   elapsed time: 627\n",
            "step:  1800,    loss: 4.2268e+01, Y0: 5.2971e+01,   elapsed time: 662\n",
            "step:  1900,    loss: 4.3622e+01, Y0: 5.3343e+01,   elapsed time: 698\n",
            "step:  2000,    loss: 4.4507e+01, Y0: 5.3704e+01,   elapsed time: 733\n",
            "step:  2100,    loss: 4.3253e+01, Y0: 5.4034e+01,   elapsed time: 768\n",
            "step:  2200,    loss: 3.3628e+01, Y0: 5.4353e+01,   elapsed time: 803\n",
            "step:  2300,    loss: 3.0532e+01, Y0: 5.4650e+01,   elapsed time: 838\n",
            "step:  2400,    loss: 2.6507e+01, Y0: 5.4916e+01,   elapsed time: 873\n",
            "step:  2500,    loss: 2.8707e+01, Y0: 5.5171e+01,   elapsed time: 909\n",
            "step:  2600,    loss: 3.1642e+01, Y0: 5.5400e+01,   elapsed time: 944\n",
            "step:  2700,    loss: 2.8589e+01, Y0: 5.5616e+01,   elapsed time: 979\n",
            "step:  2800,    loss: 2.4898e+01, Y0: 5.5794e+01,   elapsed time: 1014\n",
            "step:  2900,    loss: 3.2023e+01, Y0: 5.5962e+01,   elapsed time: 1049\n",
            "step:  3000,    loss: 1.7933e+01, Y0: 5.6138e+01,   elapsed time: 1084\n",
            "step:  3100,    loss: 3.3084e+01, Y0: 5.6274e+01,   elapsed time: 1119\n",
            "step:  3200,    loss: 2.6564e+01, Y0: 5.6394e+01,   elapsed time: 1154\n",
            "step:  3300,    loss: 2.2146e+01, Y0: 5.6502e+01,   elapsed time: 1189\n",
            "step:  3400,    loss: 2.5415e+01, Y0: 5.6617e+01,   elapsed time: 1224\n",
            "step:  3500,    loss: 3.0978e+01, Y0: 5.6709e+01,   elapsed time: 1259\n",
            "step:  3600,    loss: 2.4680e+01, Y0: 5.6790e+01,   elapsed time: 1295\n",
            "step:  3700,    loss: 2.1486e+01, Y0: 5.6842e+01,   elapsed time: 1330\n",
            "step:  3800,    loss: 3.1210e+01, Y0: 5.6903e+01,   elapsed time: 1364\n",
            "step:  3900,    loss: 2.9037e+01, Y0: 5.6943e+01,   elapsed time: 1400\n",
            "step:  4000,    loss: 2.8879e+01, Y0: 5.6964e+01,   elapsed time: 1435\n",
            "step:  4100,    loss: 2.2385e+01, Y0: 5.6983e+01,   elapsed time: 1470\n",
            "step:  4200,    loss: 2.6649e+01, Y0: 5.7007e+01,   elapsed time: 1505\n",
            "step:  4300,    loss: 2.7148e+01, Y0: 5.7027e+01,   elapsed time: 1540\n",
            "step:  4400,    loss: 2.1591e+01, Y0: 5.7078e+01,   elapsed time: 1575\n",
            "step:  4500,    loss: 2.1319e+01, Y0: 5.7101e+01,   elapsed time: 1610\n",
            "step:  4600,    loss: 3.3308e+01, Y0: 5.7099e+01,   elapsed time: 1645\n",
            "step:  4700,    loss: 2.8220e+01, Y0: 5.7109e+01,   elapsed time: 1679\n",
            "step:  4800,    loss: 2.7768e+01, Y0: 5.7120e+01,   elapsed time: 1714\n",
            "step:  4900,    loss: 2.3666e+01, Y0: 5.7063e+01,   elapsed time: 1750\n",
            "step:  5000,    loss: 2.6736e+01, Y0: 5.7062e+01,   elapsed time: 1784\n",
            "step:  5100,    loss: 2.0142e+01, Y0: 5.7108e+01,   elapsed time: 1819\n",
            "step:  5200,    loss: 2.1885e+01, Y0: 5.7137e+01,   elapsed time: 1854\n",
            "step:  5300,    loss: 2.3446e+01, Y0: 5.7149e+01,   elapsed time: 1889\n",
            "step:  5400,    loss: 2.8356e+01, Y0: 5.7140e+01,   elapsed time: 1924\n",
            "step:  5500,    loss: 2.9895e+01, Y0: 5.7107e+01,   elapsed time: 1959\n",
            "step:  5600,    loss: 2.3216e+01, Y0: 5.7096e+01,   elapsed time: 1994\n",
            "step:  5700,    loss: 2.6871e+01, Y0: 5.7090e+01,   elapsed time: 2029\n",
            "step:  5800,    loss: 2.2963e+01, Y0: 5.7122e+01,   elapsed time: 2064\n",
            "step:  5900,    loss: 2.4961e+01, Y0: 5.7143e+01,   elapsed time: 2099\n",
            "step:  6000,    loss: 2.8367e+01, Y0: 5.7117e+01,   elapsed time: 2134\n"
          ]
        }
      ]
    },
    {
      "cell_type": "code",
      "source": [
        "training_history = PDEModel.training_history"
      ],
      "metadata": {
        "id": "Nxgnxoa5XqY2"
      },
      "execution_count": null,
      "outputs": []
    },
    {
      "cell_type": "code",
      "source": [
        "import matplotlib.pyplot as plt\n",
        "y0_arr = [item[2] for item in training_history]\n",
        "step_arr = [item[0] for item in training_history]\n",
        "plt.plot(step_arr, y0_arr)\n",
        "plt.xlabel('Epoch')\n",
        "plt.ylabel('Y0')"
      ],
      "metadata": {
        "colab": {
          "base_uri": "https://localhost:8080/",
          "height": 296
        },
        "id": "7xgjCoLvXnsG",
        "outputId": "99a9bb48-c5d2-46dc-c16e-56e99221cdb4"
      },
      "execution_count": null,
      "outputs": [
        {
          "output_type": "execute_result",
          "data": {
            "text/plain": [
              "Text(0, 0.5, 'Y0')"
            ]
          },
          "metadata": {},
          "execution_count": 6
        },
        {
          "output_type": "display_data",
          "data": {
            "image/png": "[encoded data removed]",
            "text/plain": [
              "<Figure size 432x288 with 1 Axes>"
            ]
          },
          "metadata": {
            "needs_background": "light"
          }
        }
      ]
    }
  ]
}